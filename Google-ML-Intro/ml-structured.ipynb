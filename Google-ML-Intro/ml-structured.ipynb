{
 "cells": [
  {
   "cell_type": "code",
   "execution_count": 1,
   "id": "ad33ed69",
   "metadata": {},
   "outputs": [],
   "source": [
    "#import pylab as pl\n",
    "from sklearn.metrics import accuracy_score\n",
    "from sklearn.naive_bayes import GaussianNB\n",
    "from sklearn.svm import SVC\n",
    "from sklearn import tree\n",
    "import matplotlib.pyplot as plt"
   ]
  },
  {
   "cell_type": "code",
   "execution_count": 2,
   "id": "7204732b",
   "metadata": {},
   "outputs": [],
   "source": [
    "# Provided by google which is part of their sandbox environment\n",
    "from prep_terrain_data import makeTerrainData  \n",
    "from class_vis import prettyPicture"
   ]
  },
  {
   "cell_type": "code",
   "execution_count": 3,
   "id": "f9fcfc0c",
   "metadata": {},
   "outputs": [],
   "source": [
    "# Load the data\n",
    "features_train, labels_train, features_test, labels_test = makeTerrainData()"
   ]
  },
  {
   "cell_type": "markdown",
   "id": "076e3dd4",
   "metadata": {},
   "source": [
    "Train a Naive Bayes Classifier"
   ]
  },
  {
   "cell_type": "code",
   "execution_count": 4,
   "id": "b9f473da",
   "metadata": {},
   "outputs": [
    {
     "name": "stdout",
     "output_type": "stream",
     "text": [
      "Naive Bayes Accuracy: 0.884\n"
     ]
    }
   ],
   "source": [
    "clf_nb = GaussianNB()\n",
    "clf_nb.fit(features_train, labels_train)\n",
    "pred_nb = clf_nb.predict(features_test)\n",
    "acc_nb = accuracy_score(pred_nb, labels_test)\n",
    "print(\"Naive Bayes Accuracy:\", acc_nb)"
   ]
  },
  {
   "cell_type": "markdown",
   "id": "bf9dae4f",
   "metadata": {},
   "source": [
    "Train an SVM Classifier"
   ]
  },
  {
   "cell_type": "code",
   "execution_count": 5,
   "id": "efe888bc",
   "metadata": {},
   "outputs": [
    {
     "name": "stdout",
     "output_type": "stream",
     "text": [
      "SVM Accuracy: 0.92\n"
     ]
    }
   ],
   "source": [
    "clf_svm = SVC(kernel='linear')\n",
    "clf_svm.fit(features_train, labels_train)\n",
    "pred_svm = clf_svm.predict(features_test)\n",
    "acc_svm = accuracy_score(pred_svm, labels_test)\n",
    "print(\"SVM Accuracy:\", acc_svm)"
   ]
  },
  {
   "cell_type": "markdown",
   "id": "45ac0578",
   "metadata": {},
   "source": [
    "Decision Trees Classifier"
   ]
  },
  {
   "cell_type": "code",
   "execution_count": 6,
   "id": "f491c4b2",
   "metadata": {},
   "outputs": [
    {
     "name": "stdout",
     "output_type": "stream",
     "text": [
      "Decision Tree Classifier Accuracy: 0.908\n"
     ]
    }
   ],
   "source": [
    "clf_dtc = tree.DecisionTreeClassifier()\n",
    "clf_dtc.fit(features_train, labels_train)\n",
    "pred_dtc = clf_dtc.predict(features_test)\n",
    "acc_dtc = accuracy_score(pred_dtc, labels_test)\n",
    "print(\"Decision Tree Classifier Accuracy:\", acc_dtc)\n"
   ]
  },
  {
   "cell_type": "code",
   "execution_count": 7,
   "id": "6b739f3f",
   "metadata": {},
   "outputs": [
    {
     "name": "stdout",
     "output_type": "stream",
     "text": [
      "Decision Tree Classifier Accuracy: 0.912\n"
     ]
    }
   ],
   "source": [
    "clf_dtc_50 = tree.DecisionTreeClassifier(min_samples_split=50)\n",
    "clf_dtc_50.fit(features_train, labels_train)\n",
    "pred_dtc_50 = clf_dtc_50.predict(features_test)\n",
    "acc_dtc_50 = accuracy_score(pred_dtc_50, labels_test)\n",
    "print(\"Decision Tree Classifier Accuracy:\", acc_dtc_50)"
   ]
  },
  {
   "cell_type": "code",
   "execution_count": 46,
   "id": "9cf94ddc",
   "metadata": {},
   "outputs": [],
   "source": [
    "prettyPicture(clf_dtc, features_test, labels_test)\n",
    "plt.show()"
   ]
  },
  {
   "cell_type": "code",
   "execution_count": null,
   "id": "908d1f4e",
   "metadata": {},
   "outputs": [],
   "source": []
  }
 ],
 "metadata": {
  "kernelspec": {
   "display_name": "Python 3",
   "language": "python",
   "name": "python3"
  },
  "language_info": {
   "codemirror_mode": {
    "name": "ipython",
    "version": 3
   },
   "file_extension": ".py",
   "mimetype": "text/x-python",
   "name": "python",
   "nbconvert_exporter": "python",
   "pygments_lexer": "ipython3",
   "version": "3.11.9"
  }
 },
 "nbformat": 4,
 "nbformat_minor": 5
}

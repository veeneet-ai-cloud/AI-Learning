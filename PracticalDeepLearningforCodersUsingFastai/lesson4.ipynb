{
 "cells": [
  {
   "cell_type": "markdown",
   "id": "e5615f25",
   "metadata": {},
   "source": [
    "Getting started with NLP - Beginners"
   ]
  },
  {
   "cell_type": "code",
   "execution_count": null,
   "id": "5a417adf",
   "metadata": {},
   "outputs": [],
   "source": []
  }
 ],
 "metadata": {
  "language_info": {
   "name": "python"
  }
 },
 "nbformat": 4,
 "nbformat_minor": 5
}

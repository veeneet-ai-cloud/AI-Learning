{
 "cells": [
  {
   "cell_type": "markdown",
   "id": "8b4b41df",
   "metadata": {},
   "source": [
    "How do we fit a function to data"
   ]
  },
  {
   "cell_type": "code",
   "execution_count": 4,
   "id": "5e93d326",
   "metadata": {},
   "outputs": [],
   "source": [
    "from ipywidgets import interact\n",
    "from fastai.basics import *\n",
    "\n",
    "plt.rc('figure', dpi=90)\n",
    "\n",
    "def plot_function(f, title=None, min=-2.1, max=2.1, color='r', ylim=None):\n",
    "    x = torch.linspace(min,max, 100)[:,None]\n",
    "    if ylim: plt.ylim(ylim)\n",
    "    plt.plot(x, f(x), color)\n",
    "    if title is not None: plt.title(title)"
   ]
  },
  {
   "cell_type": "code",
   "execution_count": null,
   "id": "ef0fe859",
   "metadata": {},
   "outputs": [],
   "source": [
    "def f(x): return 3*x**2 + 2*x + 1\n",
    "plot_function(f, \"$3x^2 + 2x + 1$\")"
   ]
  },
  {
   "cell_type": "code",
   "execution_count": 10,
   "id": "dc8fa86c",
   "metadata": {},
   "outputs": [],
   "source": [
    "def quad(a, b, c, x): return a*x**2 + b*x + c"
   ]
  },
  {
   "cell_type": "code",
   "execution_count": 11,
   "id": "a7c346f2",
   "metadata": {},
   "outputs": [
    {
     "data": {
      "text/plain": [
       "10.75"
      ]
     },
     "execution_count": 11,
     "metadata": {},
     "output_type": "execute_result"
    }
   ],
   "source": [
    "quad(3,2,1,1.5)"
   ]
  },
  {
   "cell_type": "code",
   "execution_count": 15,
   "id": "f1219a3f",
   "metadata": {},
   "outputs": [],
   "source": [
    "def mk_quad(a,b,c): return partial(quad, a,b,c)"
   ]
  },
  {
   "cell_type": "code",
   "execution_count": 16,
   "id": "95445df0",
   "metadata": {},
   "outputs": [
    {
     "data": {
      "text/plain": [
       "10.75"
      ]
     },
     "execution_count": 16,
     "metadata": {},
     "output_type": "execute_result"
    }
   ],
   "source": [
    "f = mk_quad(3,2,1)\n",
    "f(1.5)"
   ]
  },
  {
   "cell_type": "code",
   "execution_count": null,
   "id": "1856abf4",
   "metadata": {},
   "outputs": [],
   "source": [
    "plot_function(f)"
   ]
  },
  {
   "cell_type": "code",
   "execution_count": 18,
   "id": "069e64ee",
   "metadata": {},
   "outputs": [],
   "source": [
    "def noise(x, scale): return np.random.normal(scale=scale, size=x.shape)\n",
    "def add_noise(x, mult, add): return x * (1+noise(x,mult)) + noise(x,add)"
   ]
  },
  {
   "cell_type": "code",
   "execution_count": 21,
   "id": "5b2468d8",
   "metadata": {},
   "outputs": [
    {
     "name": "stderr",
     "output_type": "stream",
     "text": [
      "C:\\Users\\VeeneetKumar\\AppData\\Local\\Temp\\ipykernel_8896\\1958766108.py:2: DeprecationWarning: __array_wrap__ must accept context and return_scalar arguments (positionally) in the future. (Deprecated NumPy 2.0)\n",
      "  def add_noise(x, mult, add): return x * (1+noise(x,mult)) + noise(x,add)\n"
     ]
    }
   ],
   "source": [
    "np.random.seed(42)\n",
    "\n",
    "x = torch.linspace(-2, 2, steps=20)[:,None]\n",
    "y = add_noise(f(x), 0.3, 1.5)"
   ]
  },
  {
   "cell_type": "code",
   "execution_count": null,
   "id": "3b8b0f0a",
   "metadata": {},
   "outputs": [],
   "source": [
    "plt.scatter(x,y)"
   ]
  },
  {
   "cell_type": "code",
   "execution_count": null,
   "id": "03817e8b",
   "metadata": {},
   "outputs": [],
   "source": [
    "@interact(a=1.5, b=1.5, c=1.5)\n",
    "def plot_quad(a, b, c):\n",
    "    plt.scatter(x,y)\n",
    "    plot_function(mk_quad(a,b,c), ylim=(-3,12))"
   ]
  },
  {
   "cell_type": "code",
   "execution_count": 24,
   "id": "54a6efc5",
   "metadata": {},
   "outputs": [],
   "source": [
    "def mse(preds, acts): return ((preds - acts)**2).mean()"
   ]
  },
  {
   "cell_type": "code",
   "execution_count": null,
   "id": "6c7e78e8",
   "metadata": {},
   "outputs": [],
   "source": [
    "@interact(a=1.5, b=1.5, c=1.5)\n",
    "def plot_quad(a,b,c):\n",
    "    f = mk_quad(a,b,c)\n",
    "    plt.scatter(x,y)\n",
    "    loss=mse(f(x), y)\n",
    "    plot_function(f, ylim=(-3,12), title=f\"MSE: {loss:.2f}\")"
   ]
  },
  {
   "cell_type": "code",
   "execution_count": 26,
   "id": "5df2db5b",
   "metadata": {},
   "outputs": [],
   "source": [
    "def quad_mse(params):\n",
    "    f = mk_quad(*params)\n",
    "    return mse(f(x), y)"
   ]
  },
  {
   "cell_type": "code",
   "execution_count": 27,
   "id": "75b6d582",
   "metadata": {},
   "outputs": [
    {
     "data": {
      "text/plain": [
       "tensor(5.8336, dtype=torch.float64)"
      ]
     },
     "execution_count": 27,
     "metadata": {},
     "output_type": "execute_result"
    }
   ],
   "source": [
    "quad_mse([1.5, 1.5, 1.5])"
   ]
  },
  {
   "cell_type": "code",
   "execution_count": 28,
   "id": "c04fffae",
   "metadata": {},
   "outputs": [
    {
     "data": {
      "text/plain": [
       "tensor([1.5000, 1.5000, 1.5000], requires_grad=True)"
      ]
     },
     "execution_count": 28,
     "metadata": {},
     "output_type": "execute_result"
    }
   ],
   "source": [
    "# Rank 1 tensor\n",
    "abc = torch.tensor([1.5, 1.5, 1.5])\n",
    "abc.requires_grad_()"
   ]
  },
  {
   "cell_type": "code",
   "execution_count": 29,
   "id": "0cb5742e",
   "metadata": {},
   "outputs": [
    {
     "data": {
      "text/plain": [
       "tensor(5.8336, dtype=torch.float64, grad_fn=<MeanBackward0>)"
      ]
     },
     "execution_count": 29,
     "metadata": {},
     "output_type": "execute_result"
    }
   ],
   "source": [
    "loss = quad_mse(abc)\n",
    "loss"
   ]
  },
  {
   "cell_type": "code",
   "execution_count": 30,
   "id": "576594ab",
   "metadata": {},
   "outputs": [],
   "source": [
    "loss.backward()"
   ]
  },
  {
   "cell_type": "code",
   "execution_count": 31,
   "id": "4b05ac53",
   "metadata": {},
   "outputs": [
    {
     "data": {
      "text/plain": [
       "tensor([-5.1419,  2.8472, -1.1009])"
      ]
     },
     "execution_count": 31,
     "metadata": {},
     "output_type": "execute_result"
    }
   ],
   "source": [
    "abc.grad"
   ]
  },
  {
   "cell_type": "code",
   "execution_count": 33,
   "id": "73a30d56",
   "metadata": {},
   "outputs": [
    {
     "name": "stdout",
     "output_type": "stream",
     "text": [
      "loss=3.51\n"
     ]
    }
   ],
   "source": [
    "with torch.no_grad():\n",
    "    abc -= abc.grad * 0.01\n",
    "    loss = quad_mse(abc)\n",
    "\n",
    "print(f'loss={loss:.2f}')"
   ]
  },
  {
   "cell_type": "code",
   "execution_count": 34,
   "id": "beb53d62",
   "metadata": {},
   "outputs": [
    {
     "name": "stdout",
     "output_type": "stream",
     "text": [
      "step=0; loss=3.51\n",
      "step=1; loss=3.41\n",
      "step=2; loss=3.31\n",
      "step=3; loss=3.20\n",
      "step=4; loss=3.09\n"
     ]
    }
   ],
   "source": [
    "# Automate it\n",
    "for i in range(5):\n",
    "    loss = quad_mse(abc)\n",
    "    loss.backward()\n",
    "    with torch.no_grad():\n",
    "        abc -= abc.grad * 0.01\n",
    "    print(f'step={i}; loss={loss:.2f}')"
   ]
  },
  {
   "cell_type": "code",
   "execution_count": 35,
   "id": "d0d0b49e",
   "metadata": {},
   "outputs": [
    {
     "data": {
      "text/plain": [
       "tensor([2.2987, 0.7915, 1.5252], requires_grad=True)"
      ]
     },
     "execution_count": 35,
     "metadata": {},
     "output_type": "execute_result"
    }
   ],
   "source": [
    "abc"
   ]
  },
  {
   "cell_type": "code",
   "execution_count": 36,
   "id": "9b770dca",
   "metadata": {},
   "outputs": [],
   "source": [
    "def rectified_linear(m, b, x):\n",
    "    y = m*x+b\n",
    "    return torch.clip(y, 0.)"
   ]
  },
  {
   "cell_type": "code",
   "execution_count": null,
   "id": "4fd75a92",
   "metadata": {},
   "outputs": [],
   "source": [
    "plot_function(partial(rectified_linear,1,1))"
   ]
  },
  {
   "cell_type": "code",
   "execution_count": null,
   "id": "d3f0558a",
   "metadata": {},
   "outputs": [],
   "source": [
    "@interact(m=1.5, b=1.5)\n",
    "def plot_relu(m, b):\n",
    "    plot_function(partial(rectified_linear, m, b), ylim=(-1,4))"
   ]
  },
  {
   "cell_type": "code",
   "execution_count": 39,
   "id": "71fb53fb",
   "metadata": {},
   "outputs": [],
   "source": [
    "def double_relu(m1, b1, m2, b2, x):\n",
    "    return rectified_linear(m1, b1, x) + rectified_linear(m2, b2, x)"
   ]
  },
  {
   "cell_type": "code",
   "execution_count": null,
   "id": "d0adca8c",
   "metadata": {},
   "outputs": [],
   "source": [
    "@interact(m1=1.5, b1=1.5, m2=1.5, b2=1.5)\n",
    "def plot_double_relu(m1, b1, m2, b2):\n",
    "    plot_function(partial(double_relu, m1, b1, m2, b2), ylim=(-1,6))"
   ]
  },
  {
   "cell_type": "code",
   "execution_count": null,
   "id": "06e96835",
   "metadata": {},
   "outputs": [],
   "source": []
  }
 ],
 "metadata": {
  "kernelspec": {
   "display_name": "Python 3",
   "language": "python",
   "name": "python3"
  },
  "language_info": {
   "codemirror_mode": {
    "name": "ipython",
    "version": 3
   },
   "file_extension": ".py",
   "mimetype": "text/x-python",
   "name": "python",
   "nbconvert_exporter": "python",
   "pygments_lexer": "ipython3",
   "version": "3.11.9"
  }
 },
 "nbformat": 4,
 "nbformat_minor": 5
}

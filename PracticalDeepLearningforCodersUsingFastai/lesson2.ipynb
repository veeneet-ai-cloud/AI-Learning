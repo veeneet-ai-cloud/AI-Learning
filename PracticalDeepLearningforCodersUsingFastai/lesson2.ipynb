{
 "cells": [
  {
   "cell_type": "code",
   "execution_count": 26,
   "id": "41a2ec0f",
   "metadata": {},
   "outputs": [],
   "source": [
    "!pip install -Uqq fastbook\n"
   ]
  },
  {
   "cell_type": "code",
   "execution_count": 1,
   "id": "b1cdb8f5",
   "metadata": {},
   "outputs": [],
   "source": [
    "import fastbook"
   ]
  },
  {
   "cell_type": "code",
   "execution_count": 2,
   "id": "4468e392",
   "metadata": {},
   "outputs": [],
   "source": [
    "fastbook.setup_book()"
   ]
  },
  {
   "cell_type": "code",
   "execution_count": 3,
   "id": "0baeb1b7",
   "metadata": {},
   "outputs": [],
   "source": [
    "from fastbook import *\n",
    "from fastai.vision.widgets import *"
   ]
  },
  {
   "cell_type": "code",
   "execution_count": 4,
   "id": "6a178827",
   "metadata": {},
   "outputs": [],
   "source": [
    "from ddgs import DDGS #DuckDuckGo has changed the api so we need to update \n",
    "from fastcore.all import *\n",
    "\n",
    "def search_images(keywords, max_images=200): \n",
    "    return L(DDGS().images(keywords, max_results=max_images)).itemgot('image')\n"
   ]
  },
  {
   "cell_type": "code",
   "execution_count": 5,
   "id": "1d2b4932",
   "metadata": {},
   "outputs": [
    {
     "data": {
      "text/plain": [
       "99"
      ]
     },
     "execution_count": 5,
     "metadata": {},
     "output_type": "execute_result"
    }
   ],
   "source": [
    "img = search_images('grizzly bear')\n",
    "\n",
    "len(img)"
   ]
  },
  {
   "cell_type": "code",
   "execution_count": 6,
   "id": "01c5be6f",
   "metadata": {},
   "outputs": [
    {
     "data": {
      "text/plain": [
       "Path('images/grizzly.jpg')"
      ]
     },
     "execution_count": 6,
     "metadata": {},
     "output_type": "execute_result"
    }
   ],
   "source": [
    "dest = 'images/grizzly.jpg'\n",
    "download_url(img[0], dest, show_progress=False)"
   ]
  },
  {
   "cell_type": "code",
   "execution_count": null,
   "id": "fd7bf14e",
   "metadata": {},
   "outputs": [],
   "source": [
    "im = Image.open(dest)\n",
    "im.to_thumb(128,128)"
   ]
  },
  {
   "cell_type": "code",
   "execution_count": 8,
   "id": "94f9b928",
   "metadata": {},
   "outputs": [],
   "source": [
    "bear_type = 'grizzly', 'black', 'teddy'\n",
    "path = Path('bears')"
   ]
  },
  {
   "cell_type": "code",
   "execution_count": 14,
   "id": "afd47695",
   "metadata": {},
   "outputs": [],
   "source": [
    "if not path.exists():\n",
    "    path.mkdir()\n",
    "    for o in bear_type:\n",
    "        dest = (path/o)\n",
    "        dest.mkdir(exist_ok=True)\n",
    "        results = search_images(f'{o} bear')\n",
    "        download_images(dest, urls=results)\n",
    "        time.sleep(5)"
   ]
  },
  {
   "cell_type": "code",
   "execution_count": 15,
   "id": "f9476376",
   "metadata": {},
   "outputs": [
    {
     "data": {
      "text/plain": [
       "(#266) [Path('bears/black/054ff5c1-710a-41b0-b964-d5f656d3c26a.jpg'),Path('bears/black/09873d99-1e22-449d-94ec-dd9ed85425d2.jpg'),Path('bears/black/0a32f2e2-32aa-4a8c-a2b0-a75836c9de8c.jpg'),Path('bears/black/0b2e843b-aa55-467d-8aa9-e3b87a6860a4.jpeg'),Path('bears/black/0d87c7f2-728d-4ed2-a7c2-be7312170a4a.jpg'),Path('bears/black/0f5f0f63-2bec-4f4e-a247-f8829f76707c.jpg'),Path('bears/black/0f8ce4a0-7443-4862-95b9-20660a0acf27.jpg'),Path('bears/black/121b1114-9a75-463d-bc3e-a87e40c34197.jpg'),Path('bears/black/1340a43f-f11c-4314-b8f7-076f3459a523.jpg'),Path('bears/black/14ecf3d8-25e0-4c6d-89ab-fe83c69a0c76.jpg'),Path('bears/black/156054ab-b30c-4e31-ba36-7149043a7729.jpg'),Path('bears/black/191746d9-c155-4f2f-afed-8ef86972ec28.jpg'),Path('bears/black/196671cf-8a57-4d70-bc48-767477754796.jpg'),Path('bears/black/1c88533c-e9d6-4dc7-8e46-e45ab83e3dcf.jpg'),Path('bears/black/230bb250-4808-41c0-96db-bf3b39b38110.jpg'),Path('bears/black/25c21572-701d-4677-945b-8f5b7b5a9258.jpg'),Path('bears/black/2910aedd-8023-448a-83a8-c4276325634e.jpg'),Path('bears/black/2d25df6c-b9d1-4797-8f17-70f139714089.jpg'),Path('bears/black/31e8b968-90e8-4e2c-a02a-519ff0fe9d77.jpg'),Path('bears/black/39f86ee7-7ef5-4bd8-a6f8-3d137ce6d4e6.jpg')...]"
      ]
     },
     "execution_count": 15,
     "metadata": {},
     "output_type": "execute_result"
    }
   ],
   "source": [
    "fns = get_image_files(path)\n",
    "fns"
   ]
  },
  {
   "cell_type": "code",
   "execution_count": 16,
   "id": "51d1a9a5",
   "metadata": {},
   "outputs": [
    {
     "data": {
      "text/plain": [
       "(#2) [Path('bears/black/df8bd153-8320-4d48-906e-b392a0a702a8.jpg'),Path('bears/grizzly/62246a9e-dba7-4bd9-a86e-e2f40b86366f.png')]"
      ]
     },
     "execution_count": 16,
     "metadata": {},
     "output_type": "execute_result"
    }
   ],
   "source": [
    "failed = verify_images(fns)\n",
    "failed"
   ]
  },
  {
   "cell_type": "code",
   "execution_count": 17,
   "id": "33b7497d",
   "metadata": {},
   "outputs": [
    {
     "data": {
      "text/plain": [
       "(#2) [None,None]"
      ]
     },
     "execution_count": 17,
     "metadata": {},
     "output_type": "execute_result"
    }
   ],
   "source": [
    "failed.map(Path.unlink)"
   ]
  },
  {
   "cell_type": "code",
   "execution_count": null,
   "id": "4949c549",
   "metadata": {},
   "outputs": [],
   "source": [
    "bears = DataBlock(\n",
    "    blocks=(ImageBlock, CategoryBlock), \n",
    "    get_items=get_image_files, \n",
    "    splitter=RandomSplitter(valid_pct=0.2, seed=42),\n",
    "    get_y=parent_label,\n",
    "    item_tfms=Resize(128)\n",
    ")\n",
    "\n",
    "dls = bears.dataloaders(path)\n",
    "\n",
    "dls.valid.show_batch(max_n=4, nrows=1)"
   ]
  },
  {
   "cell_type": "code",
   "execution_count": null,
   "id": "6d7c89d9",
   "metadata": {},
   "outputs": [],
   "source": [
    "bears = bears.new(item_tfms=Resize(128, ResizeMethod.Squish))\n",
    "dls = bears.dataloaders(path)\n",
    "\n",
    "dls.valid.show_batch(max_n=4, nrows=1)"
   ]
  },
  {
   "cell_type": "code",
   "execution_count": null,
   "id": "38ce54e2",
   "metadata": {},
   "outputs": [],
   "source": [
    "bears = bears.new(item_tfms=Resize(128, ResizeMethod.Pad, pad_mode=PadMode.Zeros))\n",
    "dls = bears.dataloaders(path)\n",
    "\n",
    "dls.valid.show_batch(max_n=4, nrows=1)"
   ]
  },
  {
   "cell_type": "code",
   "execution_count": null,
   "id": "4079c95b",
   "metadata": {},
   "outputs": [],
   "source": [
    "bears = bears.new(item_tfms=RandomResizedCrop(128, min_scale=0.3))\n",
    "dls = bears.dataloaders(path)\n",
    "\n",
    "dls.train.show_batch(max_n=4, nrows=1, unique=True)"
   ]
  },
  {
   "cell_type": "code",
   "execution_count": null,
   "id": "04dcf306",
   "metadata": {},
   "outputs": [],
   "source": [
    "bears = bears.new(item_tfms=Resize(128), batch_tfms=aug_transforms(mult=2))\n",
    "dls = bears.dataloaders(path)\n",
    "\n",
    "dls.train.show_batch(max_n=8, nrows=2, unique=True)"
   ]
  },
  {
   "cell_type": "code",
   "execution_count": 23,
   "id": "d4a33bbe",
   "metadata": {},
   "outputs": [],
   "source": [
    "bears = bears.new(\n",
    "    item_tfms=RandomResizedCrop(224, min_scale=0.5),\n",
    "    batch_tfms=aug_transforms())\n",
    "dls = bears.dataloaders(path)"
   ]
  },
  {
   "cell_type": "code",
   "execution_count": 24,
   "id": "c1f297c7",
   "metadata": {},
   "outputs": [
    {
     "data": {
      "text/html": [
       "\n",
       "<style>\n",
       "    /* Turns off some styling */\n",
       "    progress {\n",
       "        /* gets rid of default border in Firefox and Opera. */\n",
       "        border: none;\n",
       "        /* Needs to be in here for Safari polyfill so background images work as expected. */\n",
       "        background-size: auto;\n",
       "    }\n",
       "    progress:not([value]), progress:not([value])::-webkit-progress-bar {\n",
       "        background: repeating-linear-gradient(45deg, #7e7e7e, #7e7e7e 10px, #5c5c5c 10px, #5c5c5c 20px);\n",
       "    }\n",
       "    .progress-bar-interrupted, .progress-bar-interrupted::-webkit-progress-bar {\n",
       "        background: #F44336;\n",
       "    }\n",
       "</style>\n"
      ],
      "text/plain": [
       "<IPython.core.display.HTML object>"
      ]
     },
     "metadata": {},
     "output_type": "display_data"
    },
    {
     "data": {
      "text/html": [
       "<table border=\"1\" class=\"dataframe\">\n",
       "  <thead>\n",
       "    <tr style=\"text-align: left;\">\n",
       "      <th>epoch</th>\n",
       "      <th>train_loss</th>\n",
       "      <th>valid_loss</th>\n",
       "      <th>error_rate</th>\n",
       "      <th>time</th>\n",
       "    </tr>\n",
       "  </thead>\n",
       "  <tbody>\n",
       "    <tr>\n",
       "      <td>0</td>\n",
       "      <td>2.028474</td>\n",
       "      <td>1.123964</td>\n",
       "      <td>0.365385</td>\n",
       "      <td>00:29</td>\n",
       "    </tr>\n",
       "  </tbody>\n",
       "</table>"
      ],
      "text/plain": [
       "<IPython.core.display.HTML object>"
      ]
     },
     "metadata": {},
     "output_type": "display_data"
    },
    {
     "name": "stderr",
     "output_type": "stream",
     "text": [
      "C:\\Users\\VeeneetKumar\\AppData\\Local\\Packages\\PythonSoftwareFoundation.Python.3.11_qbz5n2kfra8p0\\LocalCache\\local-packages\\Python311\\site-packages\\PIL\\Image.py:1047: UserWarning: Palette images with Transparency expressed in bytes should be converted to RGBA images\n",
      "  warnings.warn(\n"
     ]
    },
    {
     "data": {
      "text/html": [
       "\n",
       "<style>\n",
       "    /* Turns off some styling */\n",
       "    progress {\n",
       "        /* gets rid of default border in Firefox and Opera. */\n",
       "        border: none;\n",
       "        /* Needs to be in here for Safari polyfill so background images work as expected. */\n",
       "        background-size: auto;\n",
       "    }\n",
       "    progress:not([value]), progress:not([value])::-webkit-progress-bar {\n",
       "        background: repeating-linear-gradient(45deg, #7e7e7e, #7e7e7e 10px, #5c5c5c 10px, #5c5c5c 20px);\n",
       "    }\n",
       "    .progress-bar-interrupted, .progress-bar-interrupted::-webkit-progress-bar {\n",
       "        background: #F44336;\n",
       "    }\n",
       "</style>\n"
      ],
      "text/plain": [
       "<IPython.core.display.HTML object>"
      ]
     },
     "metadata": {},
     "output_type": "display_data"
    },
    {
     "data": {
      "text/html": [
       "<table border=\"1\" class=\"dataframe\">\n",
       "  <thead>\n",
       "    <tr style=\"text-align: left;\">\n",
       "      <th>epoch</th>\n",
       "      <th>train_loss</th>\n",
       "      <th>valid_loss</th>\n",
       "      <th>error_rate</th>\n",
       "      <th>time</th>\n",
       "    </tr>\n",
       "  </thead>\n",
       "  <tbody>\n",
       "    <tr>\n",
       "      <td>0</td>\n",
       "      <td>0.366931</td>\n",
       "      <td>0.164470</td>\n",
       "      <td>0.038462</td>\n",
       "      <td>00:38</td>\n",
       "    </tr>\n",
       "    <tr>\n",
       "      <td>1</td>\n",
       "      <td>0.291606</td>\n",
       "      <td>0.010970</td>\n",
       "      <td>0.000000</td>\n",
       "      <td>00:34</td>\n",
       "    </tr>\n",
       "    <tr>\n",
       "      <td>2</td>\n",
       "      <td>0.222858</td>\n",
       "      <td>0.003609</td>\n",
       "      <td>0.000000</td>\n",
       "      <td>00:33</td>\n",
       "    </tr>\n",
       "    <tr>\n",
       "      <td>3</td>\n",
       "      <td>0.176675</td>\n",
       "      <td>0.003150</td>\n",
       "      <td>0.000000</td>\n",
       "      <td>00:18</td>\n",
       "    </tr>\n",
       "  </tbody>\n",
       "</table>"
      ],
      "text/plain": [
       "<IPython.core.display.HTML object>"
      ]
     },
     "metadata": {},
     "output_type": "display_data"
    }
   ],
   "source": [
    "learn = vision_learner(dls, resnet18, metrics=error_rate)\n",
    "learn.fine_tune(4)"
   ]
  },
  {
   "cell_type": "code",
   "execution_count": null,
   "id": "bb0e1641",
   "metadata": {},
   "outputs": [],
   "source": [
    "interp = ClassificationInterpretation.from_learner(learn)\n",
    "interp.plot_confusion_matrix()"
   ]
  },
  {
   "cell_type": "code",
   "execution_count": null,
   "id": "94497c37",
   "metadata": {},
   "outputs": [],
   "source": [
    "interp.plot_top_losses(5, nrows=1, figsize=(17,4))"
   ]
  },
  {
   "cell_type": "code",
   "execution_count": null,
   "id": "d3eb389d",
   "metadata": {},
   "outputs": [],
   "source": [
    "cleaner = ImageClassifierCleaner(learn)\n",
    "cleaner"
   ]
  },
  {
   "cell_type": "code",
   "execution_count": 29,
   "id": "5930ceb1",
   "metadata": {},
   "outputs": [],
   "source": [
    "for idx in cleaner.delete(): cleaner.fns[idx].unlink()\n",
    "for idx,cat in cleaner.change(): shutil.move(str(cleaner.fns[idx]), path/cat)"
   ]
  },
  {
   "cell_type": "code",
   "execution_count": 30,
   "id": "09bed5c6",
   "metadata": {},
   "outputs": [],
   "source": [
    "learn.export('bear_classifier.pkl')"
   ]
  },
  {
   "cell_type": "code",
   "execution_count": null,
   "id": "a549403c",
   "metadata": {},
   "outputs": [],
   "source": []
  }
 ],
 "metadata": {
  "kernelspec": {
   "display_name": "Python 3",
   "language": "python",
   "name": "python3"
  },
  "language_info": {
   "codemirror_mode": {
    "name": "ipython",
    "version": 3
   },
   "file_extension": ".py",
   "mimetype": "text/x-python",
   "name": "python",
   "nbconvert_exporter": "python",
   "pygments_lexer": "ipython3",
   "version": "3.11.9"
  }
 },
 "nbformat": 4,
 "nbformat_minor": 5
}

{
 "cells": [
  {
   "cell_type": "code",
   "execution_count": 29,
   "id": "3c72f733",
   "metadata": {},
   "outputs": [],
   "source": [
    "import numpy as np\n",
    "import pandas as pd\n",
    "import matplotlib.pyplot as plt\n",
    "import seaborn as sns"
   ]
  },
  {
   "cell_type": "code",
   "execution_count": 30,
   "id": "a6f86d5d",
   "metadata": {},
   "outputs": [],
   "source": [
    "cols = [\"area\", \"perimeter\", \"compactness\", \"length\", \"width\", \"asymmetry\", \"groove\", \"class\"]\n",
    "df = pd.read_csv('seeds/seeds_dataset.txt', names=cols, sep=\"\\s+\")"
   ]
  },
  {
   "cell_type": "code",
   "execution_count": 31,
   "id": "eb383c2d",
   "metadata": {},
   "outputs": [
    {
     "data": {
      "text/html": [
       "<div>\n",
       "<style scoped>\n",
       "    .dataframe tbody tr th:only-of-type {\n",
       "        vertical-align: middle;\n",
       "    }\n",
       "\n",
       "    .dataframe tbody tr th {\n",
       "        vertical-align: top;\n",
       "    }\n",
       "\n",
       "    .dataframe thead th {\n",
       "        text-align: right;\n",
       "    }\n",
       "</style>\n",
       "<table border=\"1\" class=\"dataframe\">\n",
       "  <thead>\n",
       "    <tr style=\"text-align: right;\">\n",
       "      <th></th>\n",
       "      <th>area</th>\n",
       "      <th>perimeter</th>\n",
       "      <th>compactness</th>\n",
       "      <th>length</th>\n",
       "      <th>width</th>\n",
       "      <th>asymmetry</th>\n",
       "      <th>groove</th>\n",
       "      <th>class</th>\n",
       "    </tr>\n",
       "  </thead>\n",
       "  <tbody>\n",
       "    <tr>\n",
       "      <th>0</th>\n",
       "      <td>15.26</td>\n",
       "      <td>14.84</td>\n",
       "      <td>0.8710</td>\n",
       "      <td>5.763</td>\n",
       "      <td>3.312</td>\n",
       "      <td>2.221</td>\n",
       "      <td>5.220</td>\n",
       "      <td>1</td>\n",
       "    </tr>\n",
       "    <tr>\n",
       "      <th>1</th>\n",
       "      <td>14.88</td>\n",
       "      <td>14.57</td>\n",
       "      <td>0.8811</td>\n",
       "      <td>5.554</td>\n",
       "      <td>3.333</td>\n",
       "      <td>1.018</td>\n",
       "      <td>4.956</td>\n",
       "      <td>1</td>\n",
       "    </tr>\n",
       "    <tr>\n",
       "      <th>2</th>\n",
       "      <td>14.29</td>\n",
       "      <td>14.09</td>\n",
       "      <td>0.9050</td>\n",
       "      <td>5.291</td>\n",
       "      <td>3.337</td>\n",
       "      <td>2.699</td>\n",
       "      <td>4.825</td>\n",
       "      <td>1</td>\n",
       "    </tr>\n",
       "    <tr>\n",
       "      <th>3</th>\n",
       "      <td>13.84</td>\n",
       "      <td>13.94</td>\n",
       "      <td>0.8955</td>\n",
       "      <td>5.324</td>\n",
       "      <td>3.379</td>\n",
       "      <td>2.259</td>\n",
       "      <td>4.805</td>\n",
       "      <td>1</td>\n",
       "    </tr>\n",
       "    <tr>\n",
       "      <th>4</th>\n",
       "      <td>16.14</td>\n",
       "      <td>14.99</td>\n",
       "      <td>0.9034</td>\n",
       "      <td>5.658</td>\n",
       "      <td>3.562</td>\n",
       "      <td>1.355</td>\n",
       "      <td>5.175</td>\n",
       "      <td>1</td>\n",
       "    </tr>\n",
       "  </tbody>\n",
       "</table>\n",
       "</div>"
      ],
      "text/plain": [
       "    area  perimeter  compactness  length  width  asymmetry  groove  class\n",
       "0  15.26      14.84       0.8710   5.763  3.312      2.221   5.220      1\n",
       "1  14.88      14.57       0.8811   5.554  3.333      1.018   4.956      1\n",
       "2  14.29      14.09       0.9050   5.291  3.337      2.699   4.825      1\n",
       "3  13.84      13.94       0.8955   5.324  3.379      2.259   4.805      1\n",
       "4  16.14      14.99       0.9034   5.658  3.562      1.355   5.175      1"
      ]
     },
     "execution_count": 31,
     "metadata": {},
     "output_type": "execute_result"
    }
   ],
   "source": [
    "df.head()"
   ]
  },
  {
   "cell_type": "code",
   "execution_count": null,
   "id": "d03e9373",
   "metadata": {},
   "outputs": [],
   "source": [
    "for i in range(len(cols)-1):\n",
    "    for j in range(i+1, len(cols)-1):\n",
    "        x_label = cols[i]\n",
    "        y_label = cols[j]\n",
    "        sns.scatterplot(x=x_label, y=y_label, data=df, hue='class')\n",
    "        plt.show()\n"
   ]
  },
  {
   "cell_type": "markdown",
   "id": "4563a627",
   "metadata": {},
   "source": [
    "K-Means Clustering"
   ]
  },
  {
   "cell_type": "code",
   "execution_count": 32,
   "id": "72cd7ac8",
   "metadata": {},
   "outputs": [],
   "source": [
    "from sklearn.cluster import KMeans"
   ]
  },
  {
   "cell_type": "code",
   "execution_count": 59,
   "id": "e496228b",
   "metadata": {},
   "outputs": [],
   "source": [
    "x_col=\"compactness\"\n",
    "y_col=\"asymmetry\"\n",
    "x = df[[x_col,y_col]].values"
   ]
  },
  {
   "cell_type": "code",
   "execution_count": 60,
   "id": "17ad6fdc",
   "metadata": {},
   "outputs": [],
   "source": [
    "kmeans = KMeans(n_clusters=3).fit(x)"
   ]
  },
  {
   "cell_type": "code",
   "execution_count": 61,
   "id": "9c21b9a0",
   "metadata": {},
   "outputs": [],
   "source": [
    "clusters = kmeans.labels_"
   ]
  },
  {
   "cell_type": "code",
   "execution_count": 62,
   "id": "d1f9597d",
   "metadata": {},
   "outputs": [
    {
     "data": {
      "text/plain": [
       "array([0, 0, 0, 0, 0, 0, 1, 0, 0, 0, 1, 0, 1, 1, 0, 1, 2, 0, 0, 1, 1, 0,\n",
       "       0, 0, 0, 0, 1, 0, 0, 1, 0, 1, 1, 0, 0, 0, 0, 0, 1, 2, 0, 0, 0, 1,\n",
       "       1, 0, 0, 0, 0, 0, 1, 2, 1, 1, 0, 0, 0, 0, 0, 0, 0, 0, 1, 1, 0, 0,\n",
       "       0, 0, 0, 1, 1, 1, 1, 0, 1, 2, 1, 1, 2, 0, 2, 2, 2, 0, 0, 0, 0, 1,\n",
       "       2, 2, 0, 1, 1, 2, 2, 1, 1, 0, 0, 0, 1, 0, 1, 1, 1, 0, 0, 1, 1, 0,\n",
       "       0, 1, 0, 2, 1, 0, 1, 1, 1, 1, 2, 1, 1, 0, 1, 1, 1, 0, 0, 2, 0, 0,\n",
       "       1, 1, 2, 1, 1, 0, 0, 1, 2, 2, 2, 2, 1, 2, 0, 1, 1, 2, 2, 2, 1, 1,\n",
       "       1, 2, 1, 2, 1, 2, 1, 1, 2, 1, 2, 0, 2, 1, 1, 1, 2, 2, 1, 2, 2, 1,\n",
       "       2, 1, 2, 0, 2, 2, 2, 2, 2, 1, 2, 1, 2, 2, 2, 1, 1, 2, 1, 2, 2, 1,\n",
       "       1, 0, 2, 0, 1, 2, 1, 1, 1, 2, 1, 2], dtype=int32)"
      ]
     },
     "execution_count": 62,
     "metadata": {},
     "output_type": "execute_result"
    }
   ],
   "source": [
    "clusters"
   ]
  },
  {
   "cell_type": "code",
   "execution_count": 63,
   "id": "9ef2baed",
   "metadata": {},
   "outputs": [
    {
     "data": {
      "text/plain": [
       "array([1, 1, 1, 1, 1, 1, 1, 1, 1, 1, 1, 1, 1, 1, 1, 1, 1, 1, 1, 1, 1, 1,\n",
       "       1, 1, 1, 1, 1, 1, 1, 1, 1, 1, 1, 1, 1, 1, 1, 1, 1, 1, 1, 1, 1, 1,\n",
       "       1, 1, 1, 1, 1, 1, 1, 1, 1, 1, 1, 1, 1, 1, 1, 1, 1, 1, 1, 1, 1, 1,\n",
       "       1, 1, 1, 1, 2, 2, 2, 2, 2, 2, 2, 2, 2, 2, 2, 2, 2, 2, 2, 2, 2, 2,\n",
       "       2, 2, 2, 2, 2, 2, 2, 2, 2, 2, 2, 2, 2, 2, 2, 2, 2, 2, 2, 2, 2, 2,\n",
       "       2, 2, 2, 2, 2, 2, 2, 2, 2, 2, 2, 2, 2, 2, 2, 2, 2, 2, 2, 2, 2, 2,\n",
       "       2, 2, 2, 2, 2, 2, 2, 2, 3, 3, 3, 3, 3, 3, 3, 3, 3, 3, 3, 3, 3, 3,\n",
       "       3, 3, 3, 3, 3, 3, 3, 3, 3, 3, 3, 3, 3, 3, 3, 3, 3, 3, 3, 3, 3, 3,\n",
       "       3, 3, 3, 3, 3, 3, 3, 3, 3, 3, 3, 3, 3, 3, 3, 3, 3, 3, 3, 3, 3, 3,\n",
       "       3, 3, 3, 3, 3, 3, 3, 3, 3, 3, 3, 3])"
      ]
     },
     "execution_count": 63,
     "metadata": {},
     "output_type": "execute_result"
    }
   ],
   "source": [
    "df['class'].values"
   ]
  },
  {
   "cell_type": "code",
   "execution_count": 64,
   "id": "7a5015c3",
   "metadata": {},
   "outputs": [],
   "source": [
    "cluster_df = pd.DataFrame(np.hstack((x, clusters.reshape(-1,1))), columns=[x_col,y_col,\"class\"])"
   ]
  },
  {
   "cell_type": "code",
   "execution_count": null,
   "id": "6499731b",
   "metadata": {},
   "outputs": [],
   "source": [
    "# K-Means classes\n",
    "sns.scatterplot(x=x_col, y=y_col, hue='class', data = cluster_df)\n",
    "plt.plot()"
   ]
  },
  {
   "cell_type": "code",
   "execution_count": null,
   "id": "59688c5b",
   "metadata": {},
   "outputs": [],
   "source": [
    "# Original classes\n",
    "sns.scatterplot(x=x_col, y=y_col, hue='class', data = df)\n",
    "plt.plot()"
   ]
  },
  {
   "cell_type": "markdown",
   "id": "bff3fd92",
   "metadata": {},
   "source": [
    "Higher dimensions"
   ]
  },
  {
   "cell_type": "code",
   "execution_count": 67,
   "id": "72c09d19",
   "metadata": {},
   "outputs": [],
   "source": [
    "X = df[cols[:-1]].values"
   ]
  },
  {
   "cell_type": "code",
   "execution_count": 71,
   "id": "6e84de71",
   "metadata": {},
   "outputs": [],
   "source": [
    "kmeans = KMeans(n_clusters=3).fit(X)\n",
    "cluster_df = pd.DataFrame(np.hstack((X, kmeans.labels_.reshape(-1,1))), columns=df.columns)"
   ]
  },
  {
   "cell_type": "code",
   "execution_count": null,
   "id": "2a6410e8",
   "metadata": {},
   "outputs": [],
   "source": [
    "# K-Means classes\n",
    "sns.scatterplot(x=x_col, y=y_col, hue='class', data = cluster_df)\n",
    "plt.plot()"
   ]
  },
  {
   "cell_type": "code",
   "execution_count": null,
   "id": "f035e47f",
   "metadata": {},
   "outputs": [],
   "source": [
    "# Original classes\n",
    "sns.scatterplot(x=x_col, y=y_col, hue='class', data = df)\n",
    "plt.plot()"
   ]
  },
  {
   "cell_type": "markdown",
   "id": "68e749d1",
   "metadata": {},
   "source": [
    "PCA"
   ]
  },
  {
   "cell_type": "code",
   "execution_count": 74,
   "id": "f7c73a14",
   "metadata": {},
   "outputs": [],
   "source": [
    "from sklearn.decomposition import PCA"
   ]
  },
  {
   "cell_type": "code",
   "execution_count": 75,
   "id": "44a80215",
   "metadata": {},
   "outputs": [],
   "source": [
    "pca = PCA(n_components=2)\n",
    "transformed_x = pca.fit_transform(X)"
   ]
  },
  {
   "cell_type": "code",
   "execution_count": 76,
   "id": "2dc6d8a4",
   "metadata": {},
   "outputs": [
    {
     "data": {
      "text/plain": [
       "(210, 7)"
      ]
     },
     "execution_count": 76,
     "metadata": {},
     "output_type": "execute_result"
    }
   ],
   "source": [
    "X.shape"
   ]
  },
  {
   "cell_type": "code",
   "execution_count": 77,
   "id": "68e693e5",
   "metadata": {},
   "outputs": [
    {
     "data": {
      "text/plain": [
       "(210, 2)"
      ]
     },
     "execution_count": 77,
     "metadata": {},
     "output_type": "execute_result"
    }
   ],
   "source": [
    "transformed_x.shape"
   ]
  },
  {
   "cell_type": "code",
   "execution_count": 78,
   "id": "5f0d8a74",
   "metadata": {},
   "outputs": [
    {
     "data": {
      "text/plain": [
       "array([[ 0.66344838, -1.41732098],\n",
       "       [ 0.31566651, -2.68922915],\n",
       "       [-0.6604993 , -1.13150635],\n",
       "       [-1.0552759 , -1.62119002],\n",
       "       [ 1.61999921, -2.18338442]])"
      ]
     },
     "execution_count": 78,
     "metadata": {},
     "output_type": "execute_result"
    }
   ],
   "source": [
    "transformed_x[:5]"
   ]
  },
  {
   "cell_type": "code",
   "execution_count": null,
   "id": "de500358",
   "metadata": {},
   "outputs": [],
   "source": [
    "plt.scatter(transformed_x[:,0], transformed_x[:,1])\n",
    "plt.show()"
   ]
  },
  {
   "cell_type": "code",
   "execution_count": 80,
   "id": "219c8619",
   "metadata": {},
   "outputs": [],
   "source": [
    "kmeans_pca_df = pd.DataFrame(np.hstack((transformed_x, kmeans.labels_.reshape(-1,1))), columns=[\"pca1\", \"pca2\", \"class\"])"
   ]
  },
  {
   "cell_type": "code",
   "execution_count": 81,
   "id": "34689a29",
   "metadata": {},
   "outputs": [],
   "source": [
    "truth_pca_df = pd.DataFrame(np.hstack((transformed_x, df[\"class\"].values.reshape(-1,1))), columns=[\"pca1\", \"pca2\", \"class\"])"
   ]
  },
  {
   "cell_type": "code",
   "execution_count": null,
   "id": "ce6aae11",
   "metadata": {},
   "outputs": [],
   "source": [
    "# K-Means classes\n",
    "sns.scatterplot(x=\"pca1\", y=\"pca2\", hue='class', data = kmeans_pca_df)\n",
    "plt.plot()"
   ]
  },
  {
   "cell_type": "code",
   "execution_count": null,
   "id": "314034c2",
   "metadata": {},
   "outputs": [],
   "source": [
    "# Truth classes\n",
    "sns.scatterplot(x=\"pca1\", y=\"pca2\", hue='class', data = truth_pca_df)\n",
    "plt.plot()"
   ]
  },
  {
   "cell_type": "code",
   "execution_count": null,
   "id": "d64baf07",
   "metadata": {},
   "outputs": [],
   "source": []
  }
 ],
 "metadata": {
  "kernelspec": {
   "display_name": "Python 3",
   "language": "python",
   "name": "python3"
  },
  "language_info": {
   "codemirror_mode": {
    "name": "ipython",
    "version": 3
   },
   "file_extension": ".py",
   "mimetype": "text/x-python",
   "name": "python",
   "nbconvert_exporter": "python",
   "pygments_lexer": "ipython3",
   "version": "3.11.9"
  }
 },
 "nbformat": 4,
 "nbformat_minor": 5
}
